{
 "cells": [
  {
   "cell_type": "markdown",
   "metadata": {},
   "source": [
    "Teilora rindas"
   ]
  },
  {
   "cell_type": "code",
   "execution_count": 4,
   "metadata": {},
   "outputs": [],
   "source": [
    "from math import *"
   ]
  },
  {
   "cell_type": "markdown",
   "metadata": {},
   "source": [
    "Nodefine funkcijas vertibu pie pirma mainiga un nakamajiem un aprekina summu. Sij summai jabut vienadai ar funkcijas vertibu pie konkreta skaitla."
   ]
  },
  {
   "cell_type": "code",
   "execution_count": 7,
   "metadata": {},
   "outputs": [],
   "source": [
    "def sinnh(x):\n",
    "    k = 0\n",
    "    a = sqrt(x)*(pow(x, 0))/(2*0+1)\n",
    "    S = a\n",
    "    print(\"Izdruka no liet.f. a0 = %6.2f S0 = %6.2f\"%(a,S))\n",
    "\n",
    "    while k < 500:\n",
    "        k = k + 1\n",
    "        R = x/((2*k)*(2*k+1))\n",
    "        a = a * R\n",
    "        S = S + a\n",
    "        if k == 499:\n",
    "            print(\"Izdruka no liet.f. a%d = %6.2f S%d = %6.2f\"%(k,a,k,S))\n",
    "        elif k == 500:\n",
    "            print(\"Izdruka no liet.f. a%d = %6.2f S%d = %6.2f\"%(k,a,k,S))\n",
    "\n",
    "    return S        \n"
   ]
  },
  {
   "cell_type": "code",
   "execution_count": 9,
   "metadata": {},
   "outputs": [
    {
     "name": "stdout",
     "output_type": "stream",
     "text": [
      "Ievadi argumentu X: 50\n"
     ]
    }
   ],
   "source": [
    "x = float(input(\"Ievadi argumentu X: \"))"
   ]
  },
  {
   "cell_type": "code",
   "execution_count": 10,
   "metadata": {},
   "outputs": [],
   "source": [
    "y = sinh(sqrt(x))"
   ]
  },
  {
   "cell_type": "code",
   "execution_count": 11,
   "metadata": {},
   "outputs": [
    {
     "name": "stdout",
     "output_type": "stream",
     "text": [
      "Sinh(sqrt(50.00)) = 588.70\n"
     ]
    }
   ],
   "source": [
    "print(\"Sinh(sqrt(%.2f)) = %6.2f\"%(x,y))"
   ]
  },
  {
   "cell_type": "code",
   "execution_count": 12,
   "metadata": {},
   "outputs": [
    {
     "name": "stdout",
     "output_type": "stream",
     "text": [
      "Izdruka no liet.f. a0 =   7.07 S0 =   7.07\n",
      "Izdruka no liet.f. a499 =   0.00 S499 = 588.70\n",
      "Izdruka no liet.f. a500 =   0.00 S500 = 588.70\n"
     ]
    }
   ],
   "source": [
    "yy = sinnh(x)"
   ]
  },
  {
   "cell_type": "markdown",
   "metadata": {},
   "source": [
    "X pieder visiem skaitliem, kas atrodas intervala no 0 un vairak!"
   ]
  },
  {
   "cell_type": "code",
   "execution_count": 18,
   "metadata": {},
   "outputs": [
    {
     "name": "stdout",
     "output_type": "stream",
     "text": [
      "                           500                                       \n",
      "                          _____                                      \n",
      "                          \\          k                              \n",
      "                           \\        x                               \n",
      "        Sinh(sqrt(50.00)) = >  ___________ * sqrt(x)            \n",
      "                           /                                         \n",
      "                          /____  (2*k+1)!                          \n",
      "                           k=0                                       \n",
      "                                                               \n",
      "                                                               \n",
      "                                 x                             \n",
      "Rekurences reizinatajs:   ________________                     \n",
      "                                                               \n",
      "                           (2*k)*(2*k+1)                       \n"
     ]
    }
   ],
   "source": [
    "print(\"                           500                                       \")\n",
    "print(\"                          _____                                      \")\n",
    "print(\"                          \\          k                              \")\n",
    "print(\"                           \\        x                               \")\n",
    "print(\"        Sinh(sqrt(%.2f))\"%(x) + \" = >  ___________ * sqrt(x)            \")\n",
    "print(\"                           /                                         \")\n",
    "print(\"                          /____  (2*k+1)!                          \")\n",
    "print(\"                           k=0                                       \")\n",
    "print(\"                                                               \")\n",
    "print(\"                                                               \")\n",
    "print(\"                                 x                             \")\n",
    "print(\"Rekurences reizinatajs:   ________________                     \")\n",
    "print(\"                                                               \")\n",
    "print(\"                           (2*k)*(2*k+1)                       \")"
   ]
  },
  {
   "cell_type": "code",
   "execution_count": null,
   "metadata": {},
   "outputs": [],
   "source": []
  },
  {
   "cell_type": "code",
   "execution_count": null,
   "metadata": {},
   "outputs": [],
   "source": []
  }
 ],
 "metadata": {
  "kernelspec": {
   "display_name": "Python 2",
   "language": "python",
   "name": "python2"
  },
  "language_info": {
   "codemirror_mode": {
    "name": "ipython",
    "version": 2
   },
   "file_extension": ".py",
   "mimetype": "text/x-python",
   "name": "python",
   "nbconvert_exporter": "python",
   "pygments_lexer": "ipython2",
   "version": "2.7.15rc1"
  }
 },
 "nbformat": 4,
 "nbformat_minor": 2
}
