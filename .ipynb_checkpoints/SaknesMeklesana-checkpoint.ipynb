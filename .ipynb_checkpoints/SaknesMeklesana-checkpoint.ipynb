{
 "cells": [
  {
   "cell_type": "markdown",
   "metadata": {},
   "source": [
    "Saknes meklesana"
   ]
  },
  {
   "cell_type": "code",
   "execution_count": 27,
   "metadata": {},
   "outputs": [],
   "source": [
    "import sys\n",
    "sys.path.append('/usr/local/anaconda3/lib/python3.6/site-packages')"
   ]
  },
  {
   "cell_type": "code",
   "execution_count": 28,
   "metadata": {},
   "outputs": [],
   "source": [
    "from time import*"
   ]
  },
  {
   "cell_type": "code",
   "execution_count": 29,
   "metadata": {},
   "outputs": [],
   "source": [
    "from matplotlib import pyplot as plt\n",
    "from numpy import *"
   ]
  },
  {
   "cell_type": "code",
   "execution_count": 30,
   "metadata": {},
   "outputs": [],
   "source": [
    "def f(x):\n",
    "    return sinh(sqrt(x))"
   ]
  },
  {
   "cell_type": "code",
   "execution_count": 31,
   "metadata": {},
   "outputs": [],
   "source": [
    "a = 0\n",
    "b = 10"
   ]
  },
  {
   "cell_type": "markdown",
   "metadata": {},
   "source": [
    "Nosaka funkcijas vertibas punktos a un b."
   ]
  },
  {
   "cell_type": "code",
   "execution_count": 32,
   "metadata": {},
   "outputs": [],
   "source": [
    "funa = f(a)\n",
    "funb = f(b)"
   ]
  },
  {
   "cell_type": "markdown",
   "metadata": {},
   "source": [
    "Nosaka vai ir sakne, kuras funkcijas vertiba ir 0, ja x atrodas apgabala no a lidz b."
   ]
  },
  {
   "cell_type": "code",
   "execution_count": 33,
   "metadata": {},
   "outputs": [
    {
     "name": "stdout",
     "output_type": "stream",
     "text": [
      "Dotaja intervala sakne(s) ir!\n"
     ]
    }
   ],
   "source": [
    "if (funa * funb > 0.0):\n",
    "    print(\"Dotaja intervaala [%s, %s] saknju nav\"%(a,b))\n",
    "    sleep(1); exit()\n",
    "else:\n",
    "    print(\"Dotaja intervala sakne(s) ir!\")"
   ]
  },
  {
   "cell_type": "markdown",
   "metadata": {},
   "source": [
    "Nosaka precizitati, kada mekles sakni."
   ]
  },
  {
   "cell_type": "code",
   "execution_count": 34,
   "metadata": {},
   "outputs": [],
   "source": [
    "deltax = 0.00001"
   ]
  },
  {
   "cell_type": "markdown",
   "metadata": {},
   "source": [
    "Mekle sakni, kuras funkcijas vertiba ir 0, ja x atrodas apgabala no a lidz b."
   ]
  },
  {
   "cell_type": "code",
   "execution_count": 35,
   "metadata": {},
   "outputs": [],
   "source": [
    "k = 0\n",
    "while ((b-a)>deltax):\n",
    "    k = k+1\n",
    "    x = (a+b)/2\n",
    "    funx = f(x)\n",
    "    \n",
    "    if (funa*funx==0):\n",
    "        b = x\n",
    "    else:\n",
    "        a = x"
   ]
  },
  {
   "cell_type": "code",
   "execution_count": 36,
   "metadata": {},
   "outputs": [
    {
     "name": "stdout",
     "output_type": "stream",
     "text": [
      "('Sakne ir: ', 0)\n",
      "('Funkcijas vertiba: ', 0.0)\n",
      "('Iteraciju skaits: ', 4)\n"
     ]
    }
   ],
   "source": [
    "print(\"Sakne ir: \", x)\n",
    "y = sinh(sqrt(x))\n",
    "print(\"Funkcijas vertiba: \", y)\n",
    "print(\"Iteraciju skaits: \", k)"
   ]
  },
  {
   "cell_type": "code",
   "execution_count": null,
   "metadata": {},
   "outputs": [],
   "source": []
  }
 ],
 "metadata": {
  "kernelspec": {
   "display_name": "Python 2",
   "language": "python",
   "name": "python2"
  },
  "language_info": {
   "codemirror_mode": {
    "name": "ipython",
    "version": 2
   },
   "file_extension": ".py",
   "mimetype": "text/x-python",
   "name": "python",
   "nbconvert_exporter": "python",
   "pygments_lexer": "ipython2",
   "version": "2.7.15rc1"
  }
 },
 "nbformat": 4,
 "nbformat_minor": 2
}
